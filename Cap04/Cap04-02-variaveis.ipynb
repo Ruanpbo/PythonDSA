{
 "cells": [
  {
   "cell_type": "code",
   "execution_count": null,
   "id": "ffe70ba2-c29b-4196-b756-356c03fb77a1",
   "metadata": {},
   "outputs": [],
   "source": [
    "#atribuir o valor 1 à variavel var_teste\n",
    "var_teste = 1"
   ]
  },
  {
   "cell_type": "code",
   "execution_count": null,
   "id": "7cdabb2a-7665-4288-bc54-02399d29c34e",
   "metadata": {},
   "outputs": [],
   "source": [
    "#Imprimir o valor da variavel\n",
    "var_teste"
   ]
  },
  {
   "cell_type": "code",
   "execution_count": null,
   "id": "30015284-3dc3-4e56-842a-f30ebf44dd61",
   "metadata": {},
   "outputs": [],
   "source": [
    "#Imprimindo o valor da variavel atravéz de função\n",
    "print(var_teste)"
   ]
  },
  {
   "cell_type": "code",
   "execution_count": null,
   "id": "f7157a76-f50b-42f3-9231-36301ccd20d6",
   "metadata": {},
   "outputs": [],
   "source": [
    "#verificando o tipo da variavel\n",
    "type(var_teste)"
   ]
  },
  {
   "cell_type": "code",
   "execution_count": null,
   "id": "448fc910-d61b-4dc5-aa64-b4a939bc0973",
   "metadata": {},
   "outputs": [],
   "source": [
    "#atribuido o valor Ruan à variavel nome\n",
    "nome = 'Ruan'"
   ]
  },
  {
   "cell_type": "code",
   "execution_count": null,
   "id": "da50f9ff-2530-4483-8f7c-e3c65f870348",
   "metadata": {},
   "outputs": [],
   "source": [
    "#Imprimindo o valor da variavel\n",
    "nome"
   ]
  },
  {
   "cell_type": "code",
   "execution_count": null,
   "id": "b7eb81c4-6d0a-461c-83f0-b90d6ea50360",
   "metadata": {},
   "outputs": [],
   "source": [
    "#Imprimindo o valor da variavel atravéz de função\n",
    "print(nome)"
   ]
  },
  {
   "cell_type": "code",
   "execution_count": null,
   "id": "eb386e2f-ae78-45d8-a346-b72afb3d562d",
   "metadata": {},
   "outputs": [],
   "source": [
    "#verificando o tipo da variavel\n",
    "type(nome)"
   ]
  },
  {
   "cell_type": "code",
   "execution_count": null,
   "id": "74883442-5cd9-4e95-8bf9-29ee39f9a2b7",
   "metadata": {},
   "outputs": [],
   "source": [
    "#mudando o valor e o tipo da variavel\n",
    "var_teste = 9.5"
   ]
  },
  {
   "cell_type": "code",
   "execution_count": null,
   "id": "00d13b1b-5366-4032-be4b-aa484b148cf8",
   "metadata": {},
   "outputs": [],
   "source": [
    "#imprimindo o valor da variavel\n",
    "var_teste"
   ]
  },
  {
   "cell_type": "code",
   "execution_count": null,
   "id": "0f69d3f1-df47-4839-8e66-f5249d7d61a0",
   "metadata": {},
   "outputs": [],
   "source": [
    "#imprimindo o valor da variavel atravéz de função\n",
    "print(var_teste)"
   ]
  },
  {
   "cell_type": "code",
   "execution_count": null,
   "id": "cab50f20-d952-4fc7-9af3-dc52b1e17705",
   "metadata": {},
   "outputs": [],
   "source": [
    "#verificando o tipo da variavel\n",
    "type(var_teste)"
   ]
  },
  {
   "cell_type": "markdown",
   "id": "3470fcfe-a1db-41d1-89e7-25b68edf993b",
   "metadata": {},
   "source": [
    "# Declaração Múltipla"
   ]
  },
  {
   "cell_type": "code",
   "execution_count": null,
   "id": "1d315aeb-b8ce-47e8-af97-8b4077eb04c0",
   "metadata": {},
   "outputs": [],
   "source": [
    "pessoa1, pessoa2, pessoa3 = \"Ruan\", \"Kha\", \"Andy\""
   ]
  },
  {
   "cell_type": "code",
   "execution_count": null,
   "id": "bffecd07-d2b6-43f9-addb-24531bc2fab0",
   "metadata": {},
   "outputs": [],
   "source": [
    "pessoa1"
   ]
  },
  {
   "cell_type": "code",
   "execution_count": null,
   "id": "b65066dc-961e-4062-b010-488d0eafffeb",
   "metadata": {},
   "outputs": [],
   "source": [
    "pessoa2"
   ]
  },
  {
   "cell_type": "code",
   "execution_count": null,
   "id": "fbb411f4-e65c-4a8a-a8c6-d897d8bf582c",
   "metadata": {},
   "outputs": [],
   "source": [
    "pessoa3"
   ]
  },
  {
   "cell_type": "markdown",
   "id": "08079acf-429c-447d-a086-60d8045b63d8",
   "metadata": {},
   "source": [
    "> pode-se usar letras, números e undelines em nomes de variaveis(mas não se pode começar com números)"
   ]
  },
  {
   "cell_type": "markdown",
   "id": "9accdd82-1d43-451f-a8ce-4b873ec23a89",
   "metadata": {},
   "source": [
    "> Não se pode usar palavras reservadas como nome de variável\n",
    "- False\n",
    "- class\n",
    "- finally\n",
    "- is\n",
    "- return\n",
    "- None\n",
    "- Continue\n",
    "- for\n",
    "- lambda\n",
    "- try\n",
    "- True\n",
    "- def\n",
    "- from\n",
    "- nonlocal\n",
    "- while\n",
    "- and\n",
    "- del\n",
    "- global\n",
    "- not\n",
    "- with\n",
    "- as\n",
    "- elif\n",
    "- if\n",
    "- or\n",
    "- yield\n",
    "- assert\n",
    "- else\n",
    "- import\n",
    "- pass\n",
    "- break\n",
    "- except\n",
    "- in\n",
    "- raise"
   ]
  },
  {
   "cell_type": "markdown",
   "id": "02535257-3995-4590-a724-6aa28d879795",
   "metadata": {},
   "source": [
    "## Variáveis atribuídas a outras variáveis e ordem dos operadores"
   ]
  },
  {
   "cell_type": "code",
   "execution_count": null,
   "id": "d55a5edd-1d92-42e7-9a3e-3ba1b5ca0096",
   "metadata": {},
   "outputs": [],
   "source": [
    "largura = 2"
   ]
  },
  {
   "cell_type": "code",
   "execution_count": null,
   "id": "1fedd138-3861-4c2e-abae-8af760c7b9a8",
   "metadata": {},
   "outputs": [],
   "source": [
    "altura = 4"
   ]
  },
  {
   "cell_type": "code",
   "execution_count": null,
   "id": "6cdf9daf-23c4-4f83-930c-bd02b6e627ba",
   "metadata": {},
   "outputs": [],
   "source": [
    "area = largura * altura"
   ]
  },
  {
   "cell_type": "code",
   "execution_count": null,
   "id": "36e717f7-3cd0-493a-a7ba-f04c25fb0180",
   "metadata": {},
   "outputs": [],
   "source": [
    "area"
   ]
  },
  {
   "cell_type": "code",
   "execution_count": null,
   "id": "1869511f-961b-4e45-8b4e-f73190dac3d2",
   "metadata": {},
   "outputs": [],
   "source": [
    "perimetro = 2 * largura + 2 * altura"
   ]
  },
  {
   "cell_type": "code",
   "execution_count": null,
   "id": "81834f5d-a420-47dc-ba00-18a551cf550a",
   "metadata": {},
   "outputs": [],
   "source": [
    "perimetro"
   ]
  },
  {
   "cell_type": "code",
   "execution_count": null,
   "id": "c78cf7d9-73d9-49de-8af9-b67430e1e8ab",
   "metadata": {},
   "outputs": [],
   "source": [
    "#A ordemdos operadores é a mesma seguida na matemática\n",
    "perimetro = 2 * (largura + 2) * altura"
   ]
  },
  {
   "cell_type": "code",
   "execution_count": null,
   "id": "c75651eb-125e-4e64-b811-3a8515e3a021",
   "metadata": {},
   "outputs": [],
   "source": [
    "perimetro"
   ]
  },
  {
   "cell_type": "markdown",
   "id": "9abe73b1-df1a-4354-b941-22e2136e9a1a",
   "metadata": {},
   "source": [
    "## Operações com variáveis"
   ]
  },
  {
   "cell_type": "code",
   "execution_count": null,
   "id": "a17ccda9-bd97-46bc-af8c-0eead81d4242",
   "metadata": {},
   "outputs": [],
   "source": [
    "idade1 = 25"
   ]
  },
  {
   "cell_type": "code",
   "execution_count": null,
   "id": "9a4065e4-6d22-4667-a542-847f465b56c1",
   "metadata": {},
   "outputs": [],
   "source": [
    "idade2 = 35"
   ]
  },
  {
   "cell_type": "code",
   "execution_count": null,
   "id": "3b0df1b4-5ffa-4ee7-92b9-58ecaec8721e",
   "metadata": {},
   "outputs": [],
   "source": [
    "#Operador de adição\n",
    "idade1 + idade2"
   ]
  },
  {
   "cell_type": "code",
   "execution_count": null,
   "id": "e0f32ec6-a702-4cf0-b378-e1e8514e77bc",
   "metadata": {},
   "outputs": [],
   "source": [
    "#Operador de subtração\n",
    "idade2 - idade1"
   ]
  },
  {
   "cell_type": "code",
   "execution_count": null,
   "id": "4df95c09-659b-45dc-a227-59dfd4362ba6",
   "metadata": {},
   "outputs": [],
   "source": [
    "#Operador de multiplicação\n",
    "idade2 * idade1"
   ]
  },
  {
   "cell_type": "code",
   "execution_count": null,
   "id": "2362dd6e-42bb-442d-94b9-00b27e2af8ca",
   "metadata": {},
   "outputs": [],
   "source": [
    "#Operador de divisão\n",
    "idade2 / idade1"
   ]
  },
  {
   "cell_type": "code",
   "execution_count": null,
   "id": "de426b68-804e-4dbd-9b9e-b6ef4a8930f3",
   "metadata": {},
   "outputs": [],
   "source": [
    "#Operador de modulo ou resto da divisão\n",
    "idade2 % idade1"
   ]
  },
  {
   "cell_type": "markdown",
   "id": "fb9140c0-3550-401f-a3c7-14a2e1e934fb",
   "metadata": {},
   "source": [
    "## Concatenação de variáveis"
   ]
  },
  {
   "cell_type": "code",
   "execution_count": null,
   "id": "9aa635fd-fbe9-4188-9e2f-b9e84ea2e5a7",
   "metadata": {},
   "outputs": [],
   "source": [
    "nome = \"Ruan\""
   ]
  },
  {
   "cell_type": "code",
   "execution_count": null,
   "id": "a8004cf2-bc31-455f-9a21-d64cf239edf4",
   "metadata": {},
   "outputs": [],
   "source": [
    "sobrenome = \"Pablo Sousa gomes\""
   ]
  },
  {
   "cell_type": "code",
   "execution_count": null,
   "id": "c22c535b-9a3b-444f-8fc0-0029fdfe4ffe",
   "metadata": {},
   "outputs": [],
   "source": [
    "fullName = nome + \" \" + sobrenome"
   ]
  },
  {
   "cell_type": "code",
   "execution_count": null,
   "id": "5679268d-bc43-4fdd-85ae-a0dc50d27bda",
   "metadata": {},
   "outputs": [],
   "source": [
    "fullName"
   ]
  }
 ],
 "metadata": {
  "kernelspec": {
   "display_name": "Python 3 (ipykernel)",
   "language": "python",
   "name": "python3"
  },
  "language_info": {
   "codemirror_mode": {
    "name": "ipython",
    "version": 3
   },
   "file_extension": ".py",
   "mimetype": "text/x-python",
   "name": "python",
   "nbconvert_exporter": "python",
   "pygments_lexer": "ipython3",
   "version": "3.12.4"
  }
 },
 "nbformat": 4,
 "nbformat_minor": 5
}
