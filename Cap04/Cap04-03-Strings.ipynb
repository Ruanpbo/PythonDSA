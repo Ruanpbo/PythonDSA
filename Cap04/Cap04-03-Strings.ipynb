{
 "cells": [
  {
   "cell_type": "markdown",
   "id": "db5d9279-f5a2-4915-b52c-6b3ba1a274c3",
   "metadata": {},
   "source": [
    "## Imprimindo uma string"
   ]
  },
  {
   "cell_type": "code",
   "execution_count": null,
   "id": "3d2344e5-6c93-4f34-a6cf-523c5dc70582",
   "metadata": {},
   "outputs": [],
   "source": [
    "print ('Testando String em python')"
   ]
  },
  {
   "cell_type": "code",
   "execution_count": null,
   "id": "2715b95c-95ac-41e3-86f2-981e749d9cc9",
   "metadata": {},
   "outputs": [],
   "source": [
    "print ('Testando \\nStrings \\nem \\nPython')"
   ]
  },
  {
   "cell_type": "code",
   "execution_count": null,
   "id": "c69750b9-6cd9-4420-a3e8-ff4f874a471d",
   "metadata": {},
   "outputs": [],
   "source": [
    "print ('\\n')"
   ]
  },
  {
   "cell_type": "markdown",
   "id": "4986804c-0860-4ff9-b916-b654dd3f6d42",
   "metadata": {},
   "source": [
    "## Indexando Strings"
   ]
  },
  {
   "cell_type": "code",
   "execution_count": null,
   "id": "b283506f-6b10-4a55-9e3f-9489115d2a0a",
   "metadata": {},
   "outputs": [],
   "source": [
    "#Atribuindo uma string\n",
    "s = 'Data Science Academy'"
   ]
  },
  {
   "cell_type": "code",
   "execution_count": null,
   "id": "c6027109-bc95-46b4-8d32-23d6b0ac5e2d",
   "metadata": {},
   "outputs": [],
   "source": [
    "print(s)"
   ]
  },
  {
   "cell_type": "markdown",
   "id": "97f55858-9938-4ec5-aea5-5ad46ba7a95e",
   "metadata": {},
   "source": [
    ">\n",
    ">  Indexação em Python começa por zero.\n",
    ">"
   ]
  },
  {
   "cell_type": "code",
   "execution_count": null,
   "id": "a32af4f9-5e4b-4486-9e29-4c674490e8f1",
   "metadata": {},
   "outputs": [],
   "source": [
    "s[0]"
   ]
  },
  {
   "cell_type": "code",
   "execution_count": null,
   "id": "ccc02c66-20b2-4502-9433-b35cf3c16912",
   "metadata": {},
   "outputs": [],
   "source": [
    "s[5]"
   ]
  },
  {
   "cell_type": "code",
   "execution_count": null,
   "id": "b2530154-dcef-47dd-835b-ffd4f08b4374",
   "metadata": {},
   "outputs": [],
   "source": [
    "s[13]"
   ]
  },
  {
   "cell_type": "markdown",
   "id": "61d4c059-e9b4-4b70-8762-448bd18f5112",
   "metadata": {},
   "source": [
    "> Podemos usar um : para executar um slicing que faz a leitura de tudo até um ponto designado. Por Exemplo:"
   ]
  },
  {
   "cell_type": "code",
   "execution_count": null,
   "id": "158ae4c3-91f0-4264-b1f4-c800ed19237f",
   "metadata": {},
   "outputs": [],
   "source": [
    "#Retorna todos os elementos da string, começando pela posição\n",
    "#(lembrando que Python começa a indexar pela posição 0),\n",
    "#até o fim da string.\n",
    "s[1:]"
   ]
  },
  {
   "cell_type": "code",
   "execution_count": null,
   "id": "b1add74b-84c2-4551-87de-eb6c7738d315",
   "metadata": {},
   "outputs": [],
   "source": [
    "#A string original permanece inalterada\n",
    "s"
   ]
  },
  {
   "cell_type": "code",
   "execution_count": null,
   "id": "d502eef1-1c11-47f3-9bf1-25b5e682b647",
   "metadata": {},
   "outputs": [],
   "source": [
    "#Retorna tudo até a posição 3\n",
    "s[:3]"
   ]
  },
  {
   "cell_type": "code",
   "execution_count": null,
   "id": "5629d7f8-3536-41aa-9e95-62ef093a9df2",
   "metadata": {},
   "outputs": [],
   "source": [
    "#Nós também podemos usar a indexação negativa e ler de trás para frente\n",
    "s[-1]"
   ]
  },
  {
   "cell_type": "code",
   "execution_count": null,
   "id": "cc1e5003-3b18-49cd-9113-76f758f2c3c6",
   "metadata": {},
   "outputs": [],
   "source": [
    "#retorna tudo, exceto a última letra\n",
    "s[:-1]"
   ]
  },
  {
   "cell_type": "markdown",
   "id": "3358c18a-94a7-4509-8901-a3f5bfea19f9",
   "metadata": {},
   "source": [
    "Nós podemos usar a notação de índices e fatiar a string em pedaços especificos (o padrão é 1).\n",
    "Por exemplo, podemos usar dois pontos duas vezes em uma linha e, em seguida um número que especifica a frequencia para retornar elementos."
   ]
  },
  {
   "cell_type": "code",
   "execution_count": null,
   "id": "fb96c24b-5883-4515-840f-b69ad9b4ee7e",
   "metadata": {},
   "outputs": [],
   "source": [
    "s[::1]"
   ]
  },
  {
   "cell_type": "code",
   "execution_count": null,
   "id": "5bdfb87e-ae3b-4819-b83e-75628ab61075",
   "metadata": {},
   "outputs": [],
   "source": [
    "s[::2]"
   ]
  },
  {
   "cell_type": "code",
   "execution_count": null,
   "id": "f3c6bc0e-cc1a-41ee-97ce-bc831b6325f6",
   "metadata": {},
   "outputs": [],
   "source": [
    "s[::-1]"
   ]
  },
  {
   "cell_type": "markdown",
   "id": "98329753-b61f-45db-9c8a-2ceefb798442",
   "metadata": {},
   "source": [
    "## Propriedades de Strings"
   ]
  },
  {
   "cell_type": "code",
   "execution_count": null,
   "id": "7fa46d48-193a-49cc-ba5e-a9de761a4592",
   "metadata": {},
   "outputs": [],
   "source": [
    "s"
   ]
  },
  {
   "cell_type": "code",
   "execution_count": null,
   "id": "d1ae256e-7c7a-4e59-935e-bf7f025aae3d",
   "metadata": {},
   "outputs": [],
   "source": [
    "#Alterando um caracter (Não é possivel alterar um elemento da string)\n",
    "s[0] = 'x'"
   ]
  },
  {
   "cell_type": "code",
   "execution_count": null,
   "id": "823beadc-a24d-43f9-9168-b8aef9437d10",
   "metadata": {},
   "outputs": [],
   "source": [
    "#Concatenando strings\n",
    "s + ' é a melhor maneira de estar preparado para o mercado de trabalho em ciência de Dados!'"
   ]
  },
  {
   "cell_type": "code",
   "execution_count": null,
   "id": "d93e0cf7-e864-4f5e-924a-8c830e63414d",
   "metadata": {},
   "outputs": [],
   "source": [
    "s = s + ' é a melhor maneira de estar preparado para o mercado de trabalho em ciência de Dados!'"
   ]
  },
  {
   "cell_type": "code",
   "execution_count": null,
   "id": "96ec648c-9f5d-4ac0-b86d-4625a2456266",
   "metadata": {},
   "outputs": [],
   "source": [
    "print(s)"
   ]
  },
  {
   "cell_type": "code",
   "execution_count": null,
   "id": "a780865b-90e4-4567-acb2-8c954f837dc2",
   "metadata": {},
   "outputs": [],
   "source": [
    "#Podemos usar o símbolo de multiplicação para criar repetição!\n",
    "letra = 'w'"
   ]
  },
  {
   "cell_type": "code",
   "execution_count": null,
   "id": "1102a04e-3889-44a3-9fe2-af14bfb0b091",
   "metadata": {},
   "outputs": [],
   "source": [
    "letra * 3"
   ]
  },
  {
   "cell_type": "markdown",
   "id": "a9cecc1a-ee6d-4656-952a-bc6dce70fbdf",
   "metadata": {},
   "source": [
    "## Funções Built-in de Strings"
   ]
  },
  {
   "cell_type": "code",
   "execution_count": null,
   "id": "a42b1bf6-6c16-44f1-afba-27a673f44136",
   "metadata": {},
   "outputs": [],
   "source": [
    "s"
   ]
  },
  {
   "cell_type": "code",
   "execution_count": null,
   "id": "73b1c378-43b2-44e0-8c7f-c7bec4e9c8cc",
   "metadata": {},
   "outputs": [],
   "source": [
    "#Upper Case\n",
    "s.upper()"
   ]
  },
  {
   "cell_type": "code",
   "execution_count": null,
   "id": "a8ada211-5d0a-41a9-91fb-17417f54e2e1",
   "metadata": {},
   "outputs": [],
   "source": [
    "#Lower Case\n",
    "s.lower"
   ]
  },
  {
   "cell_type": "code",
   "execution_count": null,
   "id": "a1ec4cb2-b5e8-41da-9cc1-78c0a9163965",
   "metadata": {},
   "outputs": [],
   "source": [
    "# Dividir uma string por espaços em branco (padrão)\n",
    "s.split()"
   ]
  },
  {
   "cell_type": "code",
   "execution_count": null,
   "id": "0bfcb7ba-cef6-4039-9e21-2ca5e71ec573",
   "metadata": {},
   "outputs": [],
   "source": [
    "# Dividir uma string por um elemento específico\n",
    "s.split('y')"
   ]
  },
  {
   "cell_type": "markdown",
   "id": "ab2276d5-2e57-4d42-8c9c-8e86ca72c4d0",
   "metadata": {},
   "source": [
    "## Funções String"
   ]
  },
  {
   "cell_type": "code",
   "execution_count": null,
   "id": "b92146f2-d833-46fd-ba0e-308866f7c837",
   "metadata": {},
   "outputs": [],
   "source": [
    "s = 'seja bem vindo ao universo de Linguagem Python!'"
   ]
  },
  {
   "cell_type": "code",
   "execution_count": null,
   "id": "4cc552bc-1abe-4597-881b-3c4e8965cf3d",
   "metadata": {},
   "outputs": [],
   "source": [
    "# Converte a primeira letra da frase em maiuscula\n",
    "s.capitalize()"
   ]
  },
  {
   "cell_type": "code",
   "execution_count": null,
   "id": "9d0b3dda-a893-418e-9f3d-65af802ba1c8",
   "metadata": {},
   "outputs": [],
   "source": [
    "# Conta quantas vezes determinada letra aparece na frase\n",
    "s.count('a')"
   ]
  },
  {
   "cell_type": "code",
   "execution_count": null,
   "id": "30bc1e9f-e1d7-4367-ad36-1aef2fb26423",
   "metadata": {},
   "outputs": [],
   "source": [
    "# verifica se a string é toda de numeros\n",
    "s.isalnum()"
   ]
  },
  {
   "cell_type": "code",
   "execution_count": null,
   "id": "93ad44f5-ab07-4cf3-99b9-43f251d48592",
   "metadata": {},
   "outputs": [],
   "source": [
    "# verifica se a string esta toda em minusculo\n",
    "s.islower()"
   ]
  },
  {
   "cell_type": "code",
   "execution_count": null,
   "id": "e108943b-45e8-4b53-a969-a9be6bbf0bf9",
   "metadata": {},
   "outputs": [],
   "source": [
    "# verifica se a string é toda espaço\n",
    "s.isspace()"
   ]
  },
  {
   "cell_type": "code",
   "execution_count": null,
   "id": "157c490e-ff34-4b2b-8946-53cec89c5ea7",
   "metadata": {},
   "outputs": [],
   "source": [
    "# verifica se a string termina com determinada letra\n",
    "s.endswith('o')"
   ]
  },
  {
   "cell_type": "markdown",
   "id": "62893e39-128b-49dc-ac75-0e5223612da5",
   "metadata": {},
   "source": [
    "## Comparando String"
   ]
  },
  {
   "cell_type": "code",
   "execution_count": null,
   "id": "42af9a52-54cf-48d3-8735-94a33a350ad2",
   "metadata": {},
   "outputs": [],
   "source": [
    "print(\"Python\" == \"R\")"
   ]
  },
  {
   "cell_type": "code",
   "execution_count": null,
   "id": "9ba0e672-3ff3-4553-bc3e-b0b5c7de35e9",
   "metadata": {},
   "outputs": [],
   "source": [
    "print(\"Python\" == \"Python\")"
   ]
  }
 ],
 "metadata": {
  "kernelspec": {
   "display_name": "Python 3 (ipykernel)",
   "language": "python",
   "name": "python3"
  },
  "language_info": {
   "codemirror_mode": {
    "name": "ipython",
    "version": 3
   },
   "file_extension": ".py",
   "mimetype": "text/x-python",
   "name": "python",
   "nbconvert_exporter": "python",
   "pygments_lexer": "ipython3",
   "version": "3.12.4"
  }
 },
 "nbformat": 4,
 "nbformat_minor": 5
}
