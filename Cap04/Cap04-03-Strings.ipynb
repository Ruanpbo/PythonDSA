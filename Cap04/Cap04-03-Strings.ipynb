{
 "cells": [
  {
   "cell_type": "markdown",
   "id": "db5d9279-f5a2-4915-b52c-6b3ba1a274c3",
   "metadata": {},
   "source": [
    "## Imprimindo uma string"
   ]
  },
  {
   "cell_type": "code",
   "execution_count": null,
   "id": "3d2344e5-6c93-4f34-a6cf-523c5dc70582",
   "metadata": {},
   "outputs": [],
   "source": [
    "print ('Testando String em python')"
   ]
  },
  {
   "cell_type": "code",
   "execution_count": null,
   "id": "2715b95c-95ac-41e3-86f2-981e749d9cc9",
   "metadata": {},
   "outputs": [],
   "source": [
    "print ('Testando \\nStrings \\nem \\nPython')"
   ]
  },
  {
   "cell_type": "code",
   "execution_count": null,
   "id": "c69750b9-6cd9-4420-a3e8-ff4f874a471d",
   "metadata": {},
   "outputs": [],
   "source": [
    "print ('\\n')"
   ]
  },
  {
   "cell_type": "markdown",
   "id": "4986804c-0860-4ff9-b916-b654dd3f6d42",
   "metadata": {},
   "source": [
    "## Indexando Strings"
   ]
  },
  {
   "cell_type": "code",
   "execution_count": null,
   "id": "b283506f-6b10-4a55-9e3f-9489115d2a0a",
   "metadata": {},
   "outputs": [],
   "source": [
    "#Atribuindo uma string\n",
    "s = 'Data Science Academy'"
   ]
  },
  {
   "cell_type": "code",
   "execution_count": null,
   "id": "c6027109-bc95-46b4-8d32-23d6b0ac5e2d",
   "metadata": {},
   "outputs": [],
   "source": [
    "print(s)"
   ]
  },
  {
   "cell_type": "markdown",
   "id": "97f55858-9938-4ec5-aea5-5ad46ba7a95e",
   "metadata": {},
   "source": [
    ">\n",
    ">  Indexação em Python começa por zero.\n",
    ">"
   ]
  },
  {
   "cell_type": "code",
   "execution_count": null,
   "id": "a32af4f9-5e4b-4486-9e29-4c674490e8f1",
   "metadata": {},
   "outputs": [],
   "source": [
    "s[0]"
   ]
  },
  {
   "cell_type": "code",
   "execution_count": null,
   "id": "ccc02c66-20b2-4502-9433-b35cf3c16912",
   "metadata": {},
   "outputs": [],
   "source": [
    "s[5]"
   ]
  },
  {
   "cell_type": "code",
   "execution_count": null,
   "id": "b2530154-dcef-47dd-835b-ffd4f08b4374",
   "metadata": {},
   "outputs": [],
   "source": [
    "s[13]"
   ]
  }
 ],
 "metadata": {
  "kernelspec": {
   "display_name": "Python 3 (ipykernel)",
   "language": "python",
   "name": "python3"
  },
  "language_info": {
   "codemirror_mode": {
    "name": "ipython",
    "version": 3
   },
   "file_extension": ".py",
   "mimetype": "text/x-python",
   "name": "python",
   "nbconvert_exporter": "python",
   "pygments_lexer": "ipython3",
   "version": "3.12.4"
  }
 },
 "nbformat": 4,
 "nbformat_minor": 5
}
