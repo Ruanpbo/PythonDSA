{
 "cells": [
  {
   "cell_type": "markdown",
   "id": "d655ee56-72b0-47b9-ac71-df13317e4c93",
   "metadata": {},
   "source": [
    "# Data Science Academy\n",
    "\n",
    "## Fundamentos de Linguagem Python Para Análise de Dados e Data Science\n",
    "\n",
    "## Capítulo 4 - Estruturas de Dados(Lista)"
   ]
  },
  {
   "cell_type": "markdown",
   "id": "ce87c4c5-da98-4795-8843-a86ade831b80",
   "metadata": {},
   "source": [
    "### Trabalhando com listas"
   ]
  },
  {
   "cell_type": "code",
   "execution_count": 5,
   "id": "0b450bd0-125c-4cc1-bc41-6ea8f135d003",
   "metadata": {},
   "outputs": [],
   "source": [
    "# Criando uma lista\n",
    "lista_1 = [\"arroz, frango, tomate, leite\"]"
   ]
  },
  {
   "cell_type": "code",
   "execution_count": 6,
   "id": "fe0849fc-54b1-4782-99eb-57a628c31112",
   "metadata": {},
   "outputs": [
    {
     "data": {
      "text/plain": [
       "list"
      ]
     },
     "execution_count": 6,
     "metadata": {},
     "output_type": "execute_result"
    }
   ],
   "source": [
    "# Verificando o tipo da variavel\n",
    "type(lista_1)"
   ]
  },
  {
   "cell_type": "code",
   "execution_count": 7,
   "id": "0a11065c-1b11-45ed-93c4-ed98757b0aee",
   "metadata": {},
   "outputs": [
    {
     "name": "stdout",
     "output_type": "stream",
     "text": [
      "['arroz, frango, tomate, leite']\n"
     ]
    }
   ],
   "source": [
    "# Imprimindo a lista com função\n",
    "print(lista_1)"
   ]
  },
  {
   "cell_type": "code",
   "execution_count": 8,
   "id": "f2e91c16-8d70-4336-9f2b-4a889b1a339a",
   "metadata": {},
   "outputs": [],
   "source": [
    "#Criando outra lista\n",
    "lista_2 = [\"Arro\", \"Frango\", \"tomate\", \"leite\"]"
   ]
  },
  {
   "cell_type": "code",
   "execution_count": 9,
   "id": "34594069-b8c1-4f19-9dc7-76d38a6e4c0b",
   "metadata": {},
   "outputs": [
    {
     "data": {
      "text/plain": [
       "list"
      ]
     },
     "execution_count": 9,
     "metadata": {},
     "output_type": "execute_result"
    }
   ],
   "source": [
    "# Verificando o tipo da variavel\n",
    "type(lista_2)"
   ]
  },
  {
   "cell_type": "code",
   "execution_count": 10,
   "id": "fd0c8aa2-42da-4c9e-99b8-40423815c335",
   "metadata": {},
   "outputs": [
    {
     "name": "stdout",
     "output_type": "stream",
     "text": [
      "['Arro', 'Frango', 'tomate', 'leite']\n"
     ]
    }
   ],
   "source": [
    "# Imprimindo a lista com função\n",
    "print(lista_2)"
   ]
  },
  {
   "cell_type": "code",
   "execution_count": 11,
   "id": "0512f20a-5432-48bb-985b-014f725a9647",
   "metadata": {},
   "outputs": [],
   "source": [
    "# Criando outra lista\n",
    "lista_3 = [23, 100, \"Ciencia de Dados\"]"
   ]
  },
  {
   "cell_type": "code",
   "execution_count": 12,
   "id": "cc4d4719-ae4e-455a-babe-17d4db7f2781",
   "metadata": {},
   "outputs": [
    {
     "data": {
      "text/plain": [
       "list"
      ]
     },
     "execution_count": 12,
     "metadata": {},
     "output_type": "execute_result"
    }
   ],
   "source": [
    "# Verificando o tipo da variavel\n",
    "type(lista_3)"
   ]
  },
  {
   "cell_type": "code",
   "execution_count": 13,
   "id": "1fbe467e-9026-4eb1-b16d-6c417f64468f",
   "metadata": {},
   "outputs": [
    {
     "name": "stdout",
     "output_type": "stream",
     "text": [
      "[23, 100, 'Ciencia de Dados']\n"
     ]
    }
   ],
   "source": [
    "# Imprimindo a lista com função\n",
    "print(lista_3)"
   ]
  },
  {
   "cell_type": "code",
   "execution_count": 14,
   "id": "24124efa-b922-4361-88fa-095ecc40764c",
   "metadata": {},
   "outputs": [],
   "source": [
    "# Atribuir cada valor da lista a uma variável\n",
    "item1 = lista_3[2]\n",
    "item2 = lista_3[0]\n",
    "item3 = lista_3[1]"
   ]
  },
  {
   "cell_type": "code",
   "execution_count": 15,
   "id": "38e7f133-a66e-42b5-be6a-72df7613734c",
   "metadata": {},
   "outputs": [
    {
     "name": "stdout",
     "output_type": "stream",
     "text": [
      "Ciencia de Dados 23 100\n"
     ]
    }
   ],
   "source": [
    "# Imprimindo as variaveis com função\n",
    "print(item1, item2, item3)"
   ]
  },
  {
   "cell_type": "markdown",
   "id": "f787f821-937f-47fb-aa19-0ae6f746f2fa",
   "metadata": {},
   "source": [
    "### Atualizando um item da lista"
   ]
  },
  {
   "cell_type": "code",
   "execution_count": 17,
   "id": "3ffdc421-c9d4-465a-9136-577b8147670d",
   "metadata": {},
   "outputs": [
    {
     "data": {
      "text/plain": [
       "'tomate'"
      ]
     },
     "execution_count": 17,
     "metadata": {},
     "output_type": "execute_result"
    }
   ],
   "source": [
    "# Imprimindo um item da lista\n",
    "lista_2[2]"
   ]
  },
  {
   "cell_type": "code",
   "execution_count": 18,
   "id": "9b58870b-57ec-4789-ab3d-1bf6a35e8b14",
   "metadata": {},
   "outputs": [],
   "source": [
    "# Atualizar um item da lista\n",
    "lista_2[2] = \"Chocolate\""
   ]
  },
  {
   "cell_type": "code",
   "execution_count": 19,
   "id": "d8eebeaa-129a-4171-a36f-8b3033aa4c2d",
   "metadata": {},
   "outputs": [
    {
     "data": {
      "text/plain": [
       "['Arro', 'Frango', 'Chocolate', 'leite']"
      ]
     },
     "execution_count": 19,
     "metadata": {},
     "output_type": "execute_result"
    }
   ],
   "source": [
    "#Imprindo a lista alterada\n",
    "lista_2"
   ]
  },
  {
   "cell_type": "markdown",
   "id": "39021d2b-91ca-49fb-8ce8-aafa12bebb9e",
   "metadata": {},
   "source": [
    "### Deletando um item da lista"
   ]
  },
  {
   "cell_type": "code",
   "execution_count": 21,
   "id": "0e910216-36e6-400d-9cf4-c2c2c7839649",
   "metadata": {},
   "outputs": [
    {
     "ename": "IndexError",
     "evalue": "list assignment index out of range",
     "output_type": "error",
     "traceback": [
      "\u001b[1;31m---------------------------------------------------------------------------\u001b[0m",
      "\u001b[1;31mIndexError\u001b[0m                                Traceback (most recent call last)",
      "Cell \u001b[1;32mIn[21], line 2\u001b[0m\n\u001b[0;32m      1\u001b[0m \u001b[38;5;66;03m# Não é possivel deletar um item que não existe na lista. Vai gerar erro index out of range\u001b[39;00m\n\u001b[1;32m----> 2\u001b[0m \u001b[38;5;28;01mdel\u001b[39;00m lista_2[\u001b[38;5;241m4\u001b[39m]\n",
      "\u001b[1;31mIndexError\u001b[0m: list assignment index out of range"
     ]
    }
   ],
   "source": [
    "# Não é possivel deletar um item que não existe na lista. Vai gerar erro index out of range\n",
    "del lista_2[4]"
   ]
  },
  {
   "cell_type": "code",
   "execution_count": null,
   "id": "840dce6c-cb68-4d73-97b1-1cdc87c34504",
   "metadata": {},
   "outputs": [],
   "source": [
    "# Deletando um item específico da lista\n",
    "del lista_2[3]"
   ]
  },
  {
   "cell_type": "code",
   "execution_count": null,
   "id": "85f3dbe6-9032-45ea-8cdd-022bb64cf9d0",
   "metadata": {},
   "outputs": [],
   "source": [
    "# Imprimindo o item com a lista alterada\n",
    "lista_2"
   ]
  },
  {
   "cell_type": "code",
   "execution_count": null,
   "id": "2e06e016-27b2-493c-8ed7-5752689b42f1",
   "metadata": {},
   "outputs": [],
   "source": [
    "# Imprimindo o novo index 3\n",
    "lista_2[2]"
   ]
  },
  {
   "cell_type": "markdown",
   "id": "c5b29065-0714-48d4-82f0-3150aedf2911",
   "metadata": {},
   "source": [
    "### Listas Aninhadas"
   ]
  },
  {
   "cell_type": "markdown",
   "id": "99c38b7c-67ca-4af9-9180-aea4c28801e3",
   "metadata": {},
   "source": [
    "Listas aninhadas são matrizes em python"
   ]
  },
  {
   "cell_type": "code",
   "execution_count": 33,
   "id": "fdb12d43-3db4-464b-9e39-5779a98a7b03",
   "metadata": {},
   "outputs": [],
   "source": [
    "# Criando uma lista aninhada\n",
    "lista = [[1,2,3],[10,15,14],[10.1,8.7,2.3]]"
   ]
  },
  {
   "cell_type": "code",
   "execution_count": 41,
   "id": "2d084eb2-e2d4-47aa-873e-3fae9df00f8b",
   "metadata": {},
   "outputs": [
    {
     "name": "stdout",
     "output_type": "stream",
     "text": [
      "[[1, 2, 3], [10, 15, 14], [10.1, 8.7, 2.3]]\n"
     ]
    }
   ],
   "source": [
    "# Imprimindo a lista com função\n",
    "print(lista)"
   ]
  },
  {
   "cell_type": "code",
   "execution_count": 43,
   "id": "bb71f52d-fb69-4e45-8a98-1c77d6c6bc9f",
   "metadata": {},
   "outputs": [],
   "source": [
    "#Atribuindo um item a uma variavel\n",
    "a = lista[0]"
   ]
  },
  {
   "cell_type": "code",
   "execution_count": 45,
   "id": "de203e7b-7a21-46de-93c4-2b4ae6ad6283",
   "metadata": {},
   "outputs": [
    {
     "data": {
      "text/plain": [
       "[1, 2, 3]"
      ]
     },
     "execution_count": 45,
     "metadata": {},
     "output_type": "execute_result"
    }
   ],
   "source": [
    "# Imprimindo a variavel\n",
    "a"
   ]
  },
  {
   "cell_type": "code",
   "execution_count": 47,
   "id": "819ce24e-cb16-4e83-b80e-6c7903014054",
   "metadata": {},
   "outputs": [],
   "source": [
    "# Variavel B recebendo o primeiro valor da lista da variavel a\n",
    "b = a[0]"
   ]
  },
  {
   "cell_type": "code",
   "execution_count": 49,
   "id": "7316d0c1-b7e7-4137-bb4d-47622f4afa0a",
   "metadata": {},
   "outputs": [],
   "source": [
    "list1 = lista[1]"
   ]
  },
  {
   "cell_type": "code",
   "execution_count": 51,
   "id": "7659cae5-2ba3-45e0-91d6-798efddb2a73",
   "metadata": {},
   "outputs": [
    {
     "data": {
      "text/plain": [
       "[10, 15, 14]"
      ]
     },
     "execution_count": 51,
     "metadata": {},
     "output_type": "execute_result"
    }
   ],
   "source": [
    "list1"
   ]
  },
  {
   "cell_type": "code",
   "execution_count": 53,
   "id": "65f22fe2-aa78-4332-95c7-aebcdfcf26d8",
   "metadata": {},
   "outputs": [],
   "source": [
    "valor_1_0 = list1[0]"
   ]
  },
  {
   "cell_type": "code",
   "execution_count": 55,
   "id": "442610f3-9338-4cff-ada5-c2d4e57517cf",
   "metadata": {},
   "outputs": [
    {
     "data": {
      "text/plain": [
       "10"
      ]
     },
     "execution_count": 55,
     "metadata": {},
     "output_type": "execute_result"
    }
   ],
   "source": [
    "valor_1_0"
   ]
  },
  {
   "cell_type": "code",
   "execution_count": 57,
   "id": "7a81293c-8cd1-4144-8d36-178ce0f79472",
   "metadata": {},
   "outputs": [],
   "source": [
    "valor_1_2 = list1[2]"
   ]
  },
  {
   "cell_type": "code",
   "execution_count": 59,
   "id": "e81cfb88-c60f-4838-89e2-d6ce6673c303",
   "metadata": {},
   "outputs": [
    {
     "data": {
      "text/plain": [
       "14"
      ]
     },
     "execution_count": 59,
     "metadata": {},
     "output_type": "execute_result"
    }
   ],
   "source": [
    "valor_1_2"
   ]
  },
  {
   "cell_type": "code",
   "execution_count": 63,
   "id": "f22add41-1aa2-4d0e-ade7-42ff2ace65dc",
   "metadata": {},
   "outputs": [],
   "source": [
    "list2 = lista[2]"
   ]
  },
  {
   "cell_type": "code",
   "execution_count": 65,
   "id": "cc1039c2-53ab-470d-b997-426e0e852331",
   "metadata": {},
   "outputs": [
    {
     "data": {
      "text/plain": [
       "[10.1, 8.7, 2.3]"
      ]
     },
     "execution_count": 65,
     "metadata": {},
     "output_type": "execute_result"
    }
   ],
   "source": [
    "list2"
   ]
  },
  {
   "cell_type": "code",
   "execution_count": 67,
   "id": "90223a65-6a17-4e44-900e-3de068237b82",
   "metadata": {},
   "outputs": [],
   "source": [
    "valor_2_0 = list2[0]"
   ]
  },
  {
   "cell_type": "code",
   "execution_count": 70,
   "id": "c690ad42-26bf-484d-a382-fcefd040b269",
   "metadata": {},
   "outputs": [
    {
     "data": {
      "text/plain": [
       "10.1"
      ]
     },
     "execution_count": 70,
     "metadata": {},
     "output_type": "execute_result"
    }
   ],
   "source": [
    "valor_2_0"
   ]
  },
  {
   "cell_type": "markdown",
   "id": "f05da0ae-3b5f-4711-bfff-70a09565acea",
   "metadata": {},
   "source": [
    "### Operações com listas"
   ]
  },
  {
   "cell_type": "code",
   "execution_count": 73,
   "id": "c514be95-0a53-49aa-8a7d-212bb34451be",
   "metadata": {},
   "outputs": [],
   "source": [
    "# Criando uma lista aninhada\n",
    "listas = [ [1,2,3], [10,15,14], [10.1,8.7,2.3] ]"
   ]
  },
  {
   "cell_type": "code",
   "execution_count": 75,
   "id": "19487045-d837-4d46-8d18-3b4be945371c",
   "metadata": {},
   "outputs": [
    {
     "data": {
      "text/plain": [
       "[[1, 2, 3], [10, 15, 14], [10.1, 8.7, 2.3]]"
      ]
     },
     "execution_count": 75,
     "metadata": {},
     "output_type": "execute_result"
    }
   ],
   "source": [
    "# Imprimindo a lista aninhada\n",
    "listas"
   ]
  },
  {
   "cell_type": "code",
   "execution_count": 77,
   "id": "12dd2c78-fb79-4150-a585-1a19b2751f0e",
   "metadata": {},
   "outputs": [],
   "source": [
    "# Atribuindo a variavel a o primeiro valor da primeira lista\n",
    "a = listas [0] [0]"
   ]
  },
  {
   "cell_type": "code",
   "execution_count": 79,
   "id": "285fa8c8-c685-4eb1-8672-9ddd6868745b",
   "metadata": {},
   "outputs": [
    {
     "data": {
      "text/plain": [
       "1"
      ]
     },
     "execution_count": 79,
     "metadata": {},
     "output_type": "execute_result"
    }
   ],
   "source": [
    "# Imprindo o valor da vriavel\n",
    "a"
   ]
  },
  {
   "cell_type": "code",
   "execution_count": 81,
   "id": "935b96e1-ca62-458d-84cd-90ce1152d29a",
   "metadata": {},
   "outputs": [],
   "source": [
    "b = listas [1] [2]"
   ]
  },
  {
   "cell_type": "code",
   "execution_count": 83,
   "id": "eb362d70-dc13-4949-a7c5-d0b0031f413d",
   "metadata": {},
   "outputs": [
    {
     "data": {
      "text/plain": [
       "14"
      ]
     },
     "execution_count": 83,
     "metadata": {},
     "output_type": "execute_result"
    }
   ],
   "source": [
    "b"
   ]
  },
  {
   "cell_type": "code",
   "execution_count": 85,
   "id": "6a271ece-7500-4f9b-91db-4310d76866ef",
   "metadata": {},
   "outputs": [],
   "source": [
    "c = listas [0] [2] + 10"
   ]
  },
  {
   "cell_type": "code",
   "execution_count": 87,
   "id": "304ee132-6165-4ae8-8a09-76f991b710d1",
   "metadata": {},
   "outputs": [
    {
     "data": {
      "text/plain": [
       "13"
      ]
     },
     "execution_count": 87,
     "metadata": {},
     "output_type": "execute_result"
    }
   ],
   "source": [
    "c"
   ]
  },
  {
   "cell_type": "code",
   "execution_count": 89,
   "id": "38a9ddb5-d1ec-45f8-a748-0abc43fcafbb",
   "metadata": {},
   "outputs": [],
   "source": [
    "d = 10"
   ]
  },
  {
   "cell_type": "code",
   "execution_count": 91,
   "id": "d9cea540-ad4a-4fa3-a753-54f429c5b8cf",
   "metadata": {},
   "outputs": [
    {
     "data": {
      "text/plain": [
       "10"
      ]
     },
     "execution_count": 91,
     "metadata": {},
     "output_type": "execute_result"
    }
   ],
   "source": [
    "d"
   ]
  },
  {
   "cell_type": "code",
   "execution_count": 93,
   "id": "20c8022a-c957-4c3d-b9a9-915306a4ee77",
   "metadata": {},
   "outputs": [],
   "source": [
    "e = d * listas [2] [0]"
   ]
  },
  {
   "cell_type": "code",
   "execution_count": 95,
   "id": "afd7e010-12e3-448c-94c3-c67506fd3e7f",
   "metadata": {},
   "outputs": [
    {
     "data": {
      "text/plain": [
       "101.0"
      ]
     },
     "execution_count": 95,
     "metadata": {},
     "output_type": "execute_result"
    }
   ],
   "source": [
    "e"
   ]
  },
  {
   "cell_type": "code",
   "execution_count": 97,
   "id": "5a252c92-426c-4e05-ae70-9a7342a1e7ff",
   "metadata": {},
   "outputs": [],
   "source": [
    "### Concatenar listas"
   ]
  },
  {
   "cell_type": "code",
   "execution_count": 99,
   "id": "6d4abbd8-2ba1-4f2e-a99d-425f92bec4ee",
   "metadata": {},
   "outputs": [],
   "source": [
    "lista_s1 = [34, 32, 56]"
   ]
  },
  {
   "cell_type": "code",
   "execution_count": 103,
   "id": "dfe83c46-5a4e-4024-bcdf-8d1d924eb166",
   "metadata": {},
   "outputs": [
    {
     "data": {
      "text/plain": [
       "[34, 32, 56]"
      ]
     },
     "execution_count": 103,
     "metadata": {},
     "output_type": "execute_result"
    }
   ],
   "source": [
    "lista_s1"
   ]
  },
  {
   "cell_type": "code",
   "execution_count": 105,
   "id": "4e11ebd9-0792-41c5-b114-5793f27c6881",
   "metadata": {},
   "outputs": [],
   "source": [
    "lista_s2 = [21, 90, 51]"
   ]
  },
  {
   "cell_type": "code",
   "execution_count": 107,
   "id": "c09e252a-4409-4464-b465-d8c84573db2e",
   "metadata": {},
   "outputs": [
    {
     "data": {
      "text/plain": [
       "[21, 90, 51]"
      ]
     },
     "execution_count": 107,
     "metadata": {},
     "output_type": "execute_result"
    }
   ],
   "source": [
    "lista_s2"
   ]
  },
  {
   "cell_type": "code",
   "execution_count": 113,
   "id": "442ce602-fa4b-418b-8ff0-a0f4638a29ec",
   "metadata": {},
   "outputs": [],
   "source": [
    "# Concatenando listas\n",
    "lista_total = lista_s1 + lista_s2"
   ]
  },
  {
   "cell_type": "code",
   "execution_count": 115,
   "id": "d0b9da1b-bbf3-4f23-ac7b-9435216cf7e6",
   "metadata": {},
   "outputs": [
    {
     "data": {
      "text/plain": [
       "[34, 32, 56, 21, 90, 51]"
      ]
     },
     "execution_count": 115,
     "metadata": {},
     "output_type": "execute_result"
    }
   ],
   "source": [
    "lista_total"
   ]
  },
  {
   "cell_type": "markdown",
   "id": "2db60a0d-a31d-4d7d-9061-0cc06e197ac0",
   "metadata": {},
   "source": [
    "### Operador in"
   ]
  },
  {
   "cell_type": "code",
   "execution_count": 122,
   "id": "3ad345dc-01b2-45b2-a93b-4dc94882a7c4",
   "metadata": {},
   "outputs": [],
   "source": [
    "# Criando uma lista\n",
    "lista_teste_op = [100, 2, -5, 3.4]"
   ]
  },
  {
   "cell_type": "code",
   "execution_count": 124,
   "id": "0e3c7d64-3f0c-445f-956c-fbeba7dceb88",
   "metadata": {},
   "outputs": [
    {
     "name": "stdout",
     "output_type": "stream",
     "text": [
      "False\n"
     ]
    }
   ],
   "source": [
    "# Verificando se o valor 10 pertence a lista\n",
    "print( 10 in lista_teste_op )"
   ]
  },
  {
   "cell_type": "code",
   "execution_count": 126,
   "id": "d3e7e108-f493-4b42-a919-1945f54cc6d5",
   "metadata": {},
   "outputs": [
    {
     "name": "stdout",
     "output_type": "stream",
     "text": [
      "True\n"
     ]
    }
   ],
   "source": [
    "# Verificando se o valor 100 pertence a lista\n",
    "print( 100 in lista_teste_op )"
   ]
  },
  {
   "cell_type": "markdown",
   "id": "8b9631e9-5fc8-4d0c-adfe-6db3f01bdf85",
   "metadata": {},
   "source": [
    "### Funções Built-in"
   ]
  },
  {
   "cell_type": "code",
   "execution_count": 133,
   "id": "a69f05d2-53be-41d2-b7b4-b9c29615d009",
   "metadata": {},
   "outputs": [],
   "source": [
    "# Criando uma lista\n",
    "lista_numeros = [10, 20, 50, -3.4]"
   ]
  },
  {
   "cell_type": "code",
   "execution_count": 131,
   "id": "b6d95d81-fc7d-4992-a1db-80af9c7fa93a",
   "metadata": {},
   "outputs": [
    {
     "data": {
      "text/plain": [
       "4"
      ]
     },
     "execution_count": 131,
     "metadata": {},
     "output_type": "execute_result"
    }
   ],
   "source": [
    "# Função le() retorna o comprimento da lista\n",
    "len( lista_numeros )"
   ]
  },
  {
   "cell_type": "code",
   "execution_count": 135,
   "id": "7a085a42-ca9c-4673-b54a-80194d6821f9",
   "metadata": {},
   "outputs": [
    {
     "data": {
      "text/plain": [
       "50"
      ]
     },
     "execution_count": 135,
     "metadata": {},
     "output_type": "execute_result"
    }
   ],
   "source": [
    "# Função max() retorna o valor maximo da lista\n",
    "max( lista_numeros )"
   ]
  },
  {
   "cell_type": "code",
   "execution_count": 137,
   "id": "ffa6ab04-fbe5-4c76-a0b6-337ad8eac5fc",
   "metadata": {},
   "outputs": [
    {
     "data": {
      "text/plain": [
       "-3.4"
      ]
     },
     "execution_count": 137,
     "metadata": {},
     "output_type": "execute_result"
    }
   ],
   "source": [
    "# Função min() retorna o valor minimo da lista\n",
    "min( lista_numeros )"
   ]
  },
  {
   "cell_type": "code",
   "execution_count": 2,
   "id": "c5f44d64-4aad-4661-9d1a-9dc414bdc30c",
   "metadata": {},
   "outputs": [],
   "source": [
    "# Criando uma lista\n",
    "lista_formacoes_dsa = [\"Analista de dados\", \"Cientista de dados\", \"Engenheiro de dados\"]"
   ]
  },
  {
   "cell_type": "code",
   "execution_count": 4,
   "id": "235eeb21-ca85-4616-ae83-d73ac82d2308",
   "metadata": {},
   "outputs": [],
   "source": [
    "# Adicionar um item á lista\n",
    "lista_formacoes_dsa.append(\"Engenheiro de IA\")"
   ]
  },
  {
   "cell_type": "code",
   "execution_count": 6,
   "id": "c646821c-2a9e-46e5-a0aa-32151f8b14f1",
   "metadata": {},
   "outputs": [
    {
     "data": {
      "text/plain": [
       "['Analista de dados',\n",
       " 'Cientista de dados',\n",
       " 'Engenheiro de dados',\n",
       " 'Engenheiro de IA']"
      ]
     },
     "execution_count": 6,
     "metadata": {},
     "output_type": "execute_result"
    }
   ],
   "source": [
    "# Imprimindo a lista com a nova formação adicionada\n",
    "lista_formacoes_dsa"
   ]
  },
  {
   "cell_type": "code",
   "execution_count": 8,
   "id": "db38b328-b11c-411b-973e-0b0c05b8afbc",
   "metadata": {},
   "outputs": [],
   "source": [
    "lista_formacoes_dsa.append(\"Engenheiro de IA\")"
   ]
  },
  {
   "cell_type": "code",
   "execution_count": 10,
   "id": "7df2a0be-5faa-4ac9-8890-a3f09c3a8a45",
   "metadata": {},
   "outputs": [
    {
     "data": {
      "text/plain": [
       "['Analista de dados',\n",
       " 'Cientista de dados',\n",
       " 'Engenheiro de dados',\n",
       " 'Engenheiro de IA',\n",
       " 'Engenheiro de IA']"
      ]
     },
     "execution_count": 10,
     "metadata": {},
     "output_type": "execute_result"
    }
   ],
   "source": [
    "lista_formacoes_dsa"
   ]
  },
  {
   "cell_type": "code",
   "execution_count": 12,
   "id": "c30015ea-bf48-4609-bbae-5cd40cf4999f",
   "metadata": {},
   "outputs": [
    {
     "data": {
      "text/plain": [
       "2"
      ]
     },
     "execution_count": 12,
     "metadata": {},
     "output_type": "execute_result"
    }
   ],
   "source": [
    "lista_formacoes_dsa.count(\"Engenheiro de IA\")"
   ]
  },
  {
   "cell_type": "code",
   "execution_count": 14,
   "id": "9dbe1e03-8885-4e0e-8363-4a27c1708fd2",
   "metadata": {},
   "outputs": [],
   "source": [
    "# Criando uma lista vazia\n",
    "a = []"
   ]
  },
  {
   "cell_type": "code",
   "execution_count": 16,
   "id": "072089fb-7a95-4e13-a827-082b243572e9",
   "metadata": {},
   "outputs": [
    {
     "name": "stdout",
     "output_type": "stream",
     "text": [
      "[]\n"
     ]
    }
   ],
   "source": [
    "# Imprimindo uma lista vazia com função\n",
    "print(a)"
   ]
  },
  {
   "cell_type": "code",
   "execution_count": 18,
   "id": "ebbab189-afdd-4dd9-9f81-4bda5395eecf",
   "metadata": {},
   "outputs": [
    {
     "data": {
      "text/plain": [
       "list"
      ]
     },
     "execution_count": 18,
     "metadata": {},
     "output_type": "execute_result"
    }
   ],
   "source": [
    "# Verificando o tipo da variavel\n",
    "type(a)"
   ]
  },
  {
   "cell_type": "code",
   "execution_count": 20,
   "id": "17695557-cf88-4762-9796-88e8a713d766",
   "metadata": {},
   "outputs": [],
   "source": [
    "a.append(10)"
   ]
  },
  {
   "cell_type": "code",
   "execution_count": 22,
   "id": "77bc9d3b-77b5-4b67-8a98-a43141311208",
   "metadata": {},
   "outputs": [
    {
     "data": {
      "text/plain": [
       "[10]"
      ]
     },
     "execution_count": 22,
     "metadata": {},
     "output_type": "execute_result"
    }
   ],
   "source": [
    "a"
   ]
  },
  {
   "cell_type": "code",
   "execution_count": 24,
   "id": "91b0b4e7-a5e4-4c57-8307-71c720586342",
   "metadata": {},
   "outputs": [],
   "source": [
    "a.append(50)"
   ]
  },
  {
   "cell_type": "code",
   "execution_count": 26,
   "id": "d4ebb725-da15-4625-9cb2-3c96e31a4c76",
   "metadata": {},
   "outputs": [
    {
     "data": {
      "text/plain": [
       "[10, 50]"
      ]
     },
     "execution_count": 26,
     "metadata": {},
     "output_type": "execute_result"
    }
   ],
   "source": [
    "a"
   ]
  },
  {
   "cell_type": "code",
   "execution_count": 28,
   "id": "0e7cc43d-31aa-497f-a16d-50921bd4829e",
   "metadata": {},
   "outputs": [],
   "source": [
    "old_list = [1,2,5,10]"
   ]
  },
  {
   "cell_type": "code",
   "execution_count": 30,
   "id": "d88ee075-67c7-4cc6-8de7-3a4a18aaa68e",
   "metadata": {},
   "outputs": [],
   "source": [
    "new_list = []"
   ]
  },
  {
   "cell_type": "code",
   "execution_count": 32,
   "id": "9f7e1e88-00c2-445f-ab6c-4cbdfe4c71a2",
   "metadata": {},
   "outputs": [],
   "source": [
    "# Copiando os itens de uma lista para outra\n",
    "for item in old_list:\n",
    "    new_list.append(item)"
   ]
  },
  {
   "cell_type": "code",
   "execution_count": 34,
   "id": "a7ed3ed5-91c5-4e92-a227-8cd618a91f41",
   "metadata": {},
   "outputs": [
    {
     "data": {
      "text/plain": [
       "[1, 2, 5, 10]"
      ]
     },
     "execution_count": 34,
     "metadata": {},
     "output_type": "execute_result"
    }
   ],
   "source": [
    "new_list"
   ]
  },
  {
   "cell_type": "code",
   "execution_count": 36,
   "id": "b3325f7f-5cff-4919-a2ca-9e4dbd7a3d8c",
   "metadata": {},
   "outputs": [
    {
     "name": "stdout",
     "output_type": "stream",
     "text": [
      "['Recife', 'Manaus', 'Salvador', 'Fortaleza', 'Palmas']\n"
     ]
    }
   ],
   "source": [
    "cidades = ['Recife', 'Manaus', 'Salvador']\n",
    "cidades.extend(['Fortaleza', 'Palmas'])\n",
    "print(cidades)"
   ]
  },
  {
   "cell_type": "code",
   "execution_count": 38,
   "id": "94de407f-6576-4c38-828f-215aeaaf2c13",
   "metadata": {},
   "outputs": [
    {
     "data": {
      "text/plain": [
       "2"
      ]
     },
     "execution_count": 38,
     "metadata": {},
     "output_type": "execute_result"
    }
   ],
   "source": [
    "cidades.index('Salvador')"
   ]
  },
  {
   "cell_type": "code",
   "execution_count": 40,
   "id": "924dbd55-4a7e-4952-b6d4-bd16a7e959e1",
   "metadata": {},
   "outputs": [
    {
     "ename": "NameError",
     "evalue": "name 'cidade' is not defined",
     "output_type": "error",
     "traceback": [
      "\u001b[1;31m---------------------------------------------------------------------------\u001b[0m",
      "\u001b[1;31mNameError\u001b[0m                                 Traceback (most recent call last)",
      "Cell \u001b[1;32mIn[40], line 1\u001b[0m\n\u001b[1;32m----> 1\u001b[0m cidade\u001b[38;5;241m.\u001b[39mindex(\u001b[38;5;124m'\u001b[39m\u001b[38;5;124mRio de Janeiro\u001b[39m\u001b[38;5;124m'\u001b[39m)\n",
      "\u001b[1;31mNameError\u001b[0m: name 'cidade' is not defined"
     ]
    }
   ],
   "source": [
    "cidade.index('Rio de Janeiro')"
   ]
  },
  {
   "cell_type": "code",
   "execution_count": 42,
   "id": "071e5fd8-51a8-4a60-983c-654a5c8e73d2",
   "metadata": {},
   "outputs": [
    {
     "data": {
      "text/plain": [
       "['Recife', 'Manaus', 'Salvador', 'Fortaleza', 'Palmas']"
      ]
     },
     "execution_count": 42,
     "metadata": {},
     "output_type": "execute_result"
    }
   ],
   "source": [
    "cidades"
   ]
  },
  {
   "cell_type": "code",
   "execution_count": 44,
   "id": "cfa7efeb-f68e-445b-bb25-0579f47298d2",
   "metadata": {},
   "outputs": [],
   "source": [
    "cidades.insert(2,110)"
   ]
  },
  {
   "cell_type": "code",
   "execution_count": 46,
   "id": "c0f5d3f4-c1e7-47e8-8d46-e20d45cfe4c9",
   "metadata": {},
   "outputs": [
    {
     "data": {
      "text/plain": [
       "['Recife', 'Manaus', 110, 'Salvador', 'Fortaleza', 'Palmas']"
      ]
     },
     "execution_count": 46,
     "metadata": {},
     "output_type": "execute_result"
    }
   ],
   "source": [
    "cidades"
   ]
  },
  {
   "cell_type": "code",
   "execution_count": 48,
   "id": "ebe06944-33e8-4414-a7df-039a1e40fd7b",
   "metadata": {},
   "outputs": [],
   "source": [
    "# Remover um item da lista\n",
    "cidades.remove(110)"
   ]
  },
  {
   "cell_type": "code",
   "execution_count": 50,
   "id": "2bcfc86b-1277-4be2-b1ae-074dad75cccf",
   "metadata": {},
   "outputs": [
    {
     "data": {
      "text/plain": [
       "['Recife', 'Manaus', 'Salvador', 'Fortaleza', 'Palmas']"
      ]
     },
     "execution_count": 50,
     "metadata": {},
     "output_type": "execute_result"
    }
   ],
   "source": [
    "cidades"
   ]
  },
  {
   "cell_type": "code",
   "execution_count": 58,
   "id": "af388544-bfee-4ce5-8f08-719e7d70d222",
   "metadata": {},
   "outputs": [],
   "source": [
    "# Reverter a lista\n",
    "cidades.reverse()"
   ]
  },
  {
   "cell_type": "code",
   "execution_count": 60,
   "id": "408a560c-d575-4c52-9f1b-aed14c6387ce",
   "metadata": {},
   "outputs": [
    {
     "data": {
      "text/plain": [
       "['Palmas', 'Fortaleza', 'Salvador', 'Manaus', 'Recife']"
      ]
     },
     "execution_count": 60,
     "metadata": {},
     "output_type": "execute_result"
    }
   ],
   "source": [
    "# Imprimindo a lista revertida\n",
    "cidades"
   ]
  },
  {
   "cell_type": "code",
   "execution_count": 62,
   "id": "7b2086d2-d352-4b12-8a89-0f71d2d9a51f",
   "metadata": {},
   "outputs": [],
   "source": [
    "x = [3, 4, 2, 1]"
   ]
  },
  {
   "cell_type": "code",
   "execution_count": 64,
   "id": "033d55c1-ce59-403f-8218-31907c8e35f1",
   "metadata": {},
   "outputs": [
    {
     "data": {
      "text/plain": [
       "[3, 4, 2, 1]"
      ]
     },
     "execution_count": 64,
     "metadata": {},
     "output_type": "execute_result"
    }
   ],
   "source": [
    "x"
   ]
  },
  {
   "cell_type": "code",
   "execution_count": 68,
   "id": "01b791c5-ab8a-4e79-a72f-ac3fcb5ef780",
   "metadata": {},
   "outputs": [],
   "source": [
    "# Ordenar a lista\n",
    "x.sort()"
   ]
  },
  {
   "cell_type": "code",
   "execution_count": 70,
   "id": "2c23285c-6e53-4af7-89d3-816f057c95c8",
   "metadata": {},
   "outputs": [
    {
     "data": {
      "text/plain": [
       "[1, 2, 3, 4]"
      ]
     },
     "execution_count": 70,
     "metadata": {},
     "output_type": "execute_result"
    }
   ],
   "source": [
    "x"
   ]
  }
 ],
 "metadata": {
  "kernelspec": {
   "display_name": "Python 3 (ipykernel)",
   "language": "python",
   "name": "python3"
  },
  "language_info": {
   "codemirror_mode": {
    "name": "ipython",
    "version": 3
   },
   "file_extension": ".py",
   "mimetype": "text/x-python",
   "name": "python",
   "nbconvert_exporter": "python",
   "pygments_lexer": "ipython3",
   "version": "3.12.4"
  }
 },
 "nbformat": 4,
 "nbformat_minor": 5
}
